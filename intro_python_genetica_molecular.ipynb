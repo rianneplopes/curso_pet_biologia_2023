{
  "nbformat": 4,
  "nbformat_minor": 0,
  "metadata": {
    "colab": {
      "provenance": [],
      "collapsed_sections": [
        "vRIPkyt0iMBy",
        "cVqM3ItNkNgI",
        "zc9U0WyMmOQu",
        "AdqIceW3mSi3",
        "Vjw0Mpuxm9w-",
        "NANa3myYt3RU",
        "4iqM_Ybf4Kni",
        "tcK_a5HQ5gDv",
        "ahWWEbi77an2",
        "li9LiNeHIVsK",
        "ltxffC_TNhSm",
        "t_PtXxq3Nu1j",
        "Pj-Dxd7QOIhb",
        "bTUIn4w9UPew",
        "Fg0LnKaSWpAB",
        "WEOoF6B1ahAv",
        "rUsHBTnmp9KG",
        "m8cpI8RKxvWl",
        "EmoaIb9412xv",
        "bX5m5Vdq9zlD",
        "H3cGMQ0e4_nn",
        "VgBXq287SRc9",
        "JSZxizIvECPN",
        "6aHKd-jbF8Jf",
        "-QDt3_RgJJji",
        "gICv_RiuKnIX",
        "_-Q4YEC2K3l8",
        "RpIMtFe4SD2S",
        "oexj8SxLVO33",
        "2Io-fhY2XD1l",
        "fXvqvJhWe2JW",
        "iQNj0WE-jtb4",
        "lx0cQOy3ju9f",
        "VO-iaD2kyl7g",
        "br4m7njw1HPY",
        "7t43Llth1gwz"
      ],
      "authorship_tag": "ABX9TyPxKQtZZhPXwSou4+5sw5ul",
      "include_colab_link": true
    },
    "kernelspec": {
      "name": "python3",
      "display_name": "Python 3"
    },
    "language_info": {
      "name": "python"
    }
  },
  "cells": [
    {
      "cell_type": "markdown",
      "metadata": {
        "id": "view-in-github",
        "colab_type": "text"
      },
      "source": [
        "<a href=\"https://colab.research.google.com/github/rplop/curso_pet_biologia_2023/blob/main/intro_python_genetica_molecular.ipynb\" target=\"_parent\"><img src=\"https://colab.research.google.com/assets/colab-badge.svg\" alt=\"Open In Colab\"/></a>"
      ]
    },
    {
      "cell_type": "markdown",
      "source": [
        "# **I Curso de Verão - PET Biologia UFC**\n",
        "### **Introdução à programação com Python: explorando as bases da Genética Molecular**"
      ],
      "metadata": {
        "id": "K4mkqxIKhQLD"
      }
    },
    {
      "cell_type": "markdown",
      "source": [
        "## **Objetivos da oficina**"
      ],
      "metadata": {
        "id": "vRIPkyt0iMBy"
      }
    },
    {
      "cell_type": "markdown",
      "source": [
        "* Apresentar conceitos básicos da ***programação***.\n",
        "\n",
        "* Introduzir os fundamentos da linguagem de programação ***Python***.\n",
        "\n",
        "* Demonstrar a aplicabilidade da programação na manipulação de ***dados de sequência de DNA***."
      ],
      "metadata": {
        "id": "jASGZMwikdY8"
      }
    },
    {
      "cell_type": "markdown",
      "source": [
        "## **Lógica de programação**\n"
      ],
      "metadata": {
        "id": "cVqM3ItNkNgI"
      }
    },
    {
      "cell_type": "markdown",
      "source": [
        "### A travessia do rio"
      ],
      "metadata": {
        "id": "zc9U0WyMmOQu"
      }
    },
    {
      "cell_type": "markdown",
      "source": [
        "![River Crossing Puzzle](https://upload.wikimedia.org/wikipedia/commons/5/5e/Animation_of_Cabbage%2C_Sheep_and_Dog_Crossing_the_River.png)"
      ],
      "metadata": {
        "id": "R1lH9LPnltuf"
      }
    },
    {
      "cell_type": "markdown",
      "source": [
        "### A torre de Hanói"
      ],
      "metadata": {
        "id": "AdqIceW3mSi3"
      }
    },
    {
      "cell_type": "markdown",
      "source": [
        "![2](https://upload.wikimedia.org/wikipedia/commons/6/60/Tower_of_Hanoi_4.gif)"
      ],
      "metadata": {
        "id": "34Uo_GUmmLsA"
      }
    },
    {
      "cell_type": "markdown",
      "source": [
        "### O cubo mágico"
      ],
      "metadata": {
        "id": "Vjw0Mpuxm9w-"
      }
    },
    {
      "cell_type": "markdown",
      "source": [
        "![Rubik's Cube|50](https://i84.servimg.com/u/f84/11/20/06/58/cube_s14.jpg)"
      ],
      "metadata": {
        "id": "81PqtSDxnAOw"
      }
    },
    {
      "cell_type": "markdown",
      "source": [
        "***Então o que esses problemas têm em comum?***"
      ],
      "metadata": {
        "id": "vD30y4DGwV6T"
      }
    },
    {
      "cell_type": "markdown",
      "source": [
        "### Estapas da lógica de programação"
      ],
      "metadata": {
        "id": "NANa3myYt3RU"
      }
    },
    {
      "cell_type": "markdown",
      "source": [
        "* **Decomposição**: dividir o problema em partes menores e mais gerenciáveis;\n",
        "\n",
        "* **Padronização**: estabelecer regras e convenções que tornem o código mais legível e organizado;\n",
        "\n",
        "* **Abstração**: simplificar o problema, identificar os elementos essenciais e ocultar os detalhes desnecessários;\n",
        "\n",
        "* **Algoritmo**: sequência ordenada, finita e objetiva de instruções que leva, passo a passo, à resolução de um determinado problema ou tarefa;"
      ],
      "metadata": {
        "id": "yWClmzQfuBjB"
      }
    },
    {
      "cell_type": "markdown",
      "source": [
        "## **Sobre o Python**"
      ],
      "metadata": {
        "id": "4iqM_Ybf4Kni"
      }
    },
    {
      "cell_type": "markdown",
      "source": [
        "O Python é uma linguagem de programação de **alto nível**, de **propósito geral** e **orientada a objetos**.\n",
        "\n",
        "É uma linguagem **open source** e tem uma **comunidade** bastante ativa e colaborativa.\n",
        "\n",
        "[Site do Python](https://www.python.org/).\n",
        "\n",
        "[Manual em português](https://docs.python.org/pt-br/3/).\n"
      ],
      "metadata": {
        "id": "MX43prl74VNZ"
      }
    },
    {
      "cell_type": "markdown",
      "source": [
        "## **Sobre o Colab**"
      ],
      "metadata": {
        "id": "tcK_a5HQ5gDv"
      }
    },
    {
      "cell_type": "markdown",
      "source": [
        "O Google Colaboratory é um ambiente de desenvolvimento integrado armazenado em **nuvem**;\n",
        "\n",
        "Permite escrever e executar código Python em **cadernos interativos**.\n",
        "\n",
        "É possível executar os códigos diretamente do **navegador**, sem a necessidade de instalações e configurações adicionais.\n",
        "\n",
        "\n",
        "[Mais informações sobre o Google Colaboratory.](https://colab.research.google.com/notebooks/intro.ipynb)"
      ],
      "metadata": {
        "id": "_Lfs8JPx5jCY"
      }
    },
    {
      "cell_type": "markdown",
      "source": [
        "## **O primeiro programa**\n"
      ],
      "metadata": {
        "id": "ahWWEbi77an2"
      }
    },
    {
      "cell_type": "markdown",
      "source": [
        "Vamos criar um programa que exiba uma mensagem na tela.\n",
        "\n",
        "Para isso, usaremos a função nativa `print()`."
      ],
      "metadata": {
        "id": "856vaTyZIe5z"
      }
    },
    {
      "cell_type": "code",
      "source": [
        "print(\"Olá, mundo!\")"
      ],
      "metadata": {
        "id": "Z2YYNXsm8NFn"
      },
      "execution_count": null,
      "outputs": []
    },
    {
      "cell_type": "code",
      "source": [
        "## ESCREVA AQUI\n",
        "## Crie um programa que exiba uma mensagem na tela"
      ],
      "metadata": {
        "id": "-U0OUZJf8R2M"
      },
      "execution_count": 1071,
      "outputs": []
    },
    {
      "cell_type": "markdown",
      "source": [
        "*Fazendo de outra maneira...*\n",
        "\n",
        "Podemos criar uma **variável** e atribuir a ela um **valor**.\n",
        "\n",
        "Ou seja, vamos *decompor o problema*, dividi-lo em etapas menores."
      ],
      "metadata": {
        "id": "oQ0K28NX8idK"
      }
    },
    {
      "cell_type": "code",
      "source": [
        "mensagem=\"Olá, mundo!\"\n",
        "print(mensagem)"
      ],
      "metadata": {
        "id": "C8yLACxi8h99"
      },
      "execution_count": null,
      "outputs": []
    },
    {
      "cell_type": "markdown",
      "source": [
        "*Qual a vantagem do segundo método?*\n",
        "\n",
        "Vamos supor que eu queira exibir a mensagem três vezes seguidas...\n",
        "\n",
        "E se eu quiser mudar o valor dentro dos parênteses?"
      ],
      "metadata": {
        "id": "vtounP9B921s"
      }
    },
    {
      "cell_type": "code",
      "source": [
        "## Primeiro método: escrevendo diretamente na função\n",
        "print(\"Biolgoia\")\n",
        "print(\"Biolgoia\")\n",
        "print(\"Biolgoia\")"
      ],
      "metadata": {
        "id": "KuEMJjCH84K4"
      },
      "execution_count": null,
      "outputs": []
    },
    {
      "cell_type": "code",
      "source": [
        "## Segundo método: criando uma variável\n",
        "disciplina=\"Biolgoia\"\n",
        "print(disciplina)\n",
        "print(disciplina)\n",
        "print(disciplina)"
      ],
      "metadata": {
        "id": "n8Bf4fx79mOA"
      },
      "execution_count": null,
      "outputs": []
    },
    {
      "cell_type": "markdown",
      "source": [
        "***Mas o que são variáveis?***"
      ],
      "metadata": {
        "id": "jtfHNm-4HFBU"
      }
    },
    {
      "cell_type": "markdown",
      "source": [
        "## **Variáveis**"
      ],
      "metadata": {
        "id": "li9LiNeHIVsK"
      }
    },
    {
      "cell_type": "markdown",
      "source": [
        "**Variável** é um elemento que armazena uma informação (dado). Assim, podemos acessar essa informação a partir de um nome atribuído por nós."
      ],
      "metadata": {
        "id": "qlBf27bsIooh"
      }
    },
    {
      "cell_type": "markdown",
      "source": [
        "Existem vários tipos de valores que podem ser armazenados e referenciados por uma variável:\n",
        "\n",
        "* **Números inteiros** (`integer`)\n",
        "* **Números com casa decimal** (`float`)\n",
        "* **Textos** (`string`)\n",
        "* **Valores binários** (`boolean`): True/False"
      ],
      "metadata": {
        "id": "MhZLg4YCIyFq"
      }
    },
    {
      "cell_type": "markdown",
      "source": [
        "[Mais informações sobre os tipos de dados nativos do Python.](https://docs.python.org/pt-br/3/library/stdtypes.html#built-in-types)"
      ],
      "metadata": {
        "id": "KI6-KtUyKlFc"
      }
    },
    {
      "cell_type": "markdown",
      "source": [
        "Variáveis são criadas a partir de **instruções de atribuição**.\n",
        "\n",
        "Vamos criar uma variável e atribuir um valor a ela usando o **operador** de atribuição `=`."
      ],
      "metadata": {
        "id": "4qsqecrdKBtw"
      }
    },
    {
      "cell_type": "code",
      "source": [
        "x=3\n",
        "# x é um rótulo que eu escolhi arbitrariamente\n",
        "# = é o operador de atribuição\n",
        "# 3 é a informação que eu quero armazenar"
      ],
      "metadata": {
        "id": "orZTC0skLUh3"
      },
      "execution_count": 1075,
      "outputs": []
    },
    {
      "cell_type": "markdown",
      "source": [
        "A função `type()` mostra o tipo de dado que aquela variável armazena."
      ],
      "metadata": {
        "id": "guGKzULuLZxO"
      }
    },
    {
      "cell_type": "code",
      "source": [
        "type(x)"
      ],
      "metadata": {
        "id": "0RAp91L8LfdM"
      },
      "execution_count": null,
      "outputs": []
    },
    {
      "cell_type": "markdown",
      "source": [
        "Vamos criar uma variável do tipo texto."
      ],
      "metadata": {
        "id": "wl6rkEBAL1ny"
      }
    },
    {
      "cell_type": "code",
      "source": [
        "frase=\"Isto é uma string.\"          ## Cria a variável e atribui um valor a ela\n",
        "print(frase)                        ## Exibe o valor da variável\n",
        "type(frase)                         ## Exibe o tipo de dado da variável"
      ],
      "metadata": {
        "id": "UMvyVb8_Lo8A"
      },
      "execution_count": null,
      "outputs": []
    },
    {
      "cell_type": "markdown",
      "source": [
        "Podemos **reatribuir** o valor de uma variável a qualquer momento."
      ],
      "metadata": {
        "id": "lgDD1RY1Modr"
      }
    },
    {
      "cell_type": "code",
      "source": [
        "x=4\n",
        "print(x)"
      ],
      "metadata": {
        "id": "apIwA1xbMxNt"
      },
      "execution_count": null,
      "outputs": []
    },
    {
      "cell_type": "markdown",
      "source": [
        "Os **nomes das variáveis** devem conter apenas letras, números e underscores (`_`).\n",
        "\n",
        "É importante dar nomes concisos mas significativos para variáveis."
      ],
      "metadata": {
        "id": "Sh9FKBj-M8Ir"
      }
    },
    {
      "cell_type": "markdown",
      "source": [
        "## **Tipos de dados**"
      ],
      "metadata": {
        "id": "ltxffC_TNhSm"
      }
    },
    {
      "cell_type": "markdown",
      "source": [
        "Todo os tipos de dados podem sofrer operações e, para isso, utilizamos os **métodos**.\n",
        "\n",
        "De maneira simplificada, os métodos são **funções associadas** a determinado tipo de dado.\n",
        "\n",
        "Em outras palavras, métodos são as **ações** que os objetos **realizam** ou **sofrem**.\n",
        "\n",
        "*Agora vamos conhecer algums tipos de dados e seus métodos.*"
      ],
      "metadata": {
        "id": "b9CI9OSNOwOC"
      }
    },
    {
      "cell_type": "markdown",
      "source": [
        "### *Strings*"
      ],
      "metadata": {
        "id": "t_PtXxq3Nu1j"
      }
    },
    {
      "cell_type": "markdown",
      "source": [
        "Strings são sequências de **caracteres**.\n",
        "\n",
        "São sempre declaradas entre **aspas** simples ou duplas."
      ],
      "metadata": {
        "id": "ONBajPDXNw3W"
      }
    },
    {
      "cell_type": "code",
      "source": [
        "dna_seq = \"actggatctcgatgattgagtcattggata\""
      ],
      "metadata": {
        "id": "EF7sBCa7OCuA"
      },
      "execution_count": 1079,
      "outputs": []
    },
    {
      "cell_type": "markdown",
      "source": [
        "#### Operações básicas com strings"
      ],
      "metadata": {
        "id": "Pj-Dxd7QOIhb"
      }
    },
    {
      "cell_type": "markdown",
      "source": [
        "Converter entre maiúsculas e minúsculas usando os métodos `lower()` e `upper()`."
      ],
      "metadata": {
        "id": "YvrAw4ycPULB"
      }
    },
    {
      "cell_type": "code",
      "source": [
        "dna_seq=dna_seq.upper()\n",
        "print(dna_seq)"
      ],
      "metadata": {
        "id": "sz3iGCPcR3rq"
      },
      "execution_count": null,
      "outputs": []
    },
    {
      "cell_type": "markdown",
      "source": [
        "**Concatenar** strings usando o operador `+`"
      ],
      "metadata": {
        "id": "xFhYDylOScG-"
      }
    },
    {
      "cell_type": "code",
      "source": [
        "codon1=\"TGA\"\n",
        "codon2=\"TTC\"\n",
        "codon3=\"GCT\"\n",
        "sequencia=codon1+codon2+codon3\n",
        "print(sequencia)"
      ],
      "metadata": {
        "id": "D5sDeCeESdRF"
      },
      "execution_count": null,
      "outputs": []
    },
    {
      "cell_type": "markdown",
      "source": [
        "**Calcular o tamanho** da string (número de caracteres) usando a função `len()`."
      ],
      "metadata": {
        "id": "XerzdlJwXQF5"
      }
    },
    {
      "cell_type": "code",
      "source": [
        "tam_seq=len(dna_seq)\n",
        "print(tam_seq)"
      ],
      "metadata": {
        "id": "1AMhWE4NXam-"
      },
      "execution_count": null,
      "outputs": []
    },
    {
      "cell_type": "markdown",
      "source": [
        "[Mais informações sobre strings na documentação oficial do Python.](https://docs.python.org/pt-br/3/tutorial/introduction.html#strings)"
      ],
      "metadata": {
        "id": "eC_N6NNbTjtu"
      }
    },
    {
      "cell_type": "markdown",
      "source": [
        "### Números"
      ],
      "metadata": {
        "id": "bTUIn4w9UPew"
      }
    },
    {
      "cell_type": "markdown",
      "source": [
        "Existem dois tipos de **dados númericos**: os números inteiros (*int*) e os números de ponto flutuante (*float*)."
      ],
      "metadata": {
        "id": "S_KGsJjlUcBT"
      }
    },
    {
      "cell_type": "markdown",
      "source": [
        "#### Operações básicas com números"
      ],
      "metadata": {
        "id": "Fg0LnKaSWpAB"
      }
    },
    {
      "cell_type": "markdown",
      "source": [
        "As operações em Python respeitam as **regras algébricas**."
      ],
      "metadata": {
        "id": "7vlURjemWxAP"
      }
    },
    {
      "cell_type": "code",
      "source": [
        "# Adição\n",
        "print(1+2)"
      ],
      "metadata": {
        "id": "gojmJ1EGU866"
      },
      "execution_count": null,
      "outputs": []
    },
    {
      "cell_type": "code",
      "source": [
        "# Subtração\n",
        "print(6-2)"
      ],
      "metadata": {
        "id": "Wx-jprB_VDGT"
      },
      "execution_count": null,
      "outputs": []
    },
    {
      "cell_type": "code",
      "source": [
        "# Multiplicação\n",
        "print(2*4)"
      ],
      "metadata": {
        "id": "u5yg1XlrVFGN"
      },
      "execution_count": null,
      "outputs": []
    },
    {
      "cell_type": "code",
      "source": [
        "# Divisão\n",
        "print(9/2)"
      ],
      "metadata": {
        "id": "2G_pkZirVHD6"
      },
      "execution_count": null,
      "outputs": []
    },
    {
      "cell_type": "code",
      "source": [
        "# Divisão inteira\n",
        "print(9//2)"
      ],
      "metadata": {
        "id": "lY9_htTwVait"
      },
      "execution_count": null,
      "outputs": []
    },
    {
      "cell_type": "code",
      "source": [
        "# Resto\n",
        "print(9%2)"
      ],
      "metadata": {
        "id": "GnL5oA6cVeCp"
      },
      "execution_count": null,
      "outputs": []
    },
    {
      "cell_type": "code",
      "source": [
        "# Potência\n",
        "print(7**2)"
      ],
      "metadata": {
        "id": "00uLxOPbVo05"
      },
      "execution_count": null,
      "outputs": []
    },
    {
      "cell_type": "markdown",
      "source": [
        "Também podemos realizar operações numéricas com **variáveis**.\n",
        "\n",
        "Vamos calcular *quantos códons tem a nossa sequência de DNA*."
      ],
      "metadata": {
        "id": "mV2Sm9buV0LU"
      }
    },
    {
      "cell_type": "code",
      "source": [
        "# Retomando nossas variáveis\n",
        "print(dna_seq)\n",
        "print(tam_seq)"
      ],
      "metadata": {
        "colab": {
          "base_uri": "https://localhost:8080/"
        },
        "id": "vc0L15wgV3Lh",
        "outputId": "ff25069f-c5fc-4846-fff7-c0c230bddfaf"
      },
      "execution_count": 1090,
      "outputs": [
        {
          "output_type": "stream",
          "name": "stdout",
          "text": [
            "ACTGGATCTCGATGATTGAGTCATTGGATA\n",
            "30\n"
          ]
        }
      ]
    },
    {
      "cell_type": "code",
      "source": [
        "# Definindo que um códon tem três caracteres\n",
        "tam_codon=3"
      ],
      "metadata": {
        "id": "9ONxiKMpWb73"
      },
      "execution_count": 1091,
      "outputs": []
    },
    {
      "cell_type": "code",
      "source": [
        "# Calculando e exibindo o número de códons\n",
        "num_codons=tam_seq/tam_codon\n",
        "print(num_codons)"
      ],
      "metadata": {
        "colab": {
          "base_uri": "https://localhost:8080/"
        },
        "id": "ti6rK3jPW9GC",
        "outputId": "200dc103-8d09-4395-b62b-a436df918c38"
      },
      "execution_count": 1092,
      "outputs": [
        {
          "output_type": "stream",
          "name": "stdout",
          "text": [
            "10.0\n"
          ]
        }
      ]
    },
    {
      "cell_type": "markdown",
      "source": [
        "[Mais informações sobre dados númericos na documentação oficial do Python.](https://docs.python.org/pt-br/3/tutorial/introduction.html#numbers)"
      ],
      "metadata": {
        "id": "mG7OjsEHbmed"
      }
    },
    {
      "cell_type": "markdown",
      "source": [
        "## **Listas**"
      ],
      "metadata": {
        "id": "WEOoF6B1ahAv"
      }
    },
    {
      "cell_type": "markdown",
      "source": [
        "Listas são **coleções ordenadas** de itens que permitem o armazenamento de várias informações em uma única variável.\n",
        "\n",
        "No Python, indicamos que um objeto é uma lista usando `[]` (colchetes).\n",
        "\n",
        "Os valores presentes em uma lista podem ser números, strings, outras listas etc."
      ],
      "metadata": {
        "id": "rCdqPThDbN0U"
      }
    },
    {
      "cell_type": "code",
      "source": [
        "nucleotideo_subunis=[\"pentose\", \"grupo fosfato\"]\n",
        "print(nucleotideo_subunis)"
      ],
      "metadata": {
        "id": "eZ-MXkJ8cWcV"
      },
      "execution_count": null,
      "outputs": []
    },
    {
      "cell_type": "markdown",
      "source": [
        "Podemos **adicionar um novo valor** a uma lista existente usando o método `append()`"
      ],
      "metadata": {
        "id": "yD2sFPs7b4My"
      }
    },
    {
      "cell_type": "code",
      "source": [
        "nucleotideo_subunis.append(\"base nitrogenada\")\n",
        "print(nucleotideo_subunis)"
      ],
      "metadata": {
        "id": "qRrV6YJbb3m6"
      },
      "execution_count": null,
      "outputs": []
    },
    {
      "cell_type": "markdown",
      "source": [
        "Como listas são ordenadas, podemos **acessar seus elementos** informando o *índice* (posição) deles.\n",
        "\n",
        "*O primeiro item tem índice zero*.\n",
        "\n",
        "O valor do índice é escrito dentro de `[]` (colchetes), que funcionam como um *operador de indexação*."
      ],
      "metadata": {
        "id": "ag2tp_z7fBBu"
      }
    },
    {
      "cell_type": "code",
      "source": [
        "## ALTERE O VALOR DENTRO DOS COLCHETES\n",
        "print(nucleotideo_subunis[0])"
      ],
      "metadata": {
        "id": "PDGN1KBhfaJO"
      },
      "execution_count": null,
      "outputs": []
    },
    {
      "cell_type": "markdown",
      "source": [
        "Podemos **utilizar os itens de uma lista** assim como seria com qualquer outra variável."
      ],
      "metadata": {
        "id": "TKPPEYBJhV_n"
      }
    },
    {
      "cell_type": "code",
      "source": [
        "print(\"O nucleotídeo é formado por um açúcar de cinco carbonos chamado \"+nucleotideo_subunis[0]+\n",
        "      \". Esse açúcar é ligado a um \"+nucleotideo_subunis[1]+\" no carbono 5 e a uma \"+\n",
        "      nucleotideo_subunis[2]+\" no carbono 1.\")"
      ],
      "metadata": {
        "id": "nJ6MothMhqaU"
      },
      "execution_count": null,
      "outputs": []
    },
    {
      "cell_type": "markdown",
      "source": [
        "Podemos **acessar partes de uma lista** aplicando um slicing (fatiamento).\n",
        "\n",
        "Para isso usamos um modelo `start:stop` e o operador de indexação `[]`.\n",
        "\n",
        "Em Python, os **intervalos** são fechados no começo (incluso) e abertos no final (não incluso)."
      ],
      "metadata": {
        "id": "l39TSGxRnBTM"
      }
    },
    {
      "cell_type": "code",
      "source": [
        "aminoacidos=[\"alanina\",\"leucina\",\"glicina\",\"aspartato\",\"lisina\",\"glutamato\",\"fenilalanina\",\"histidina\"]"
      ],
      "metadata": {
        "id": "zOysVYOWo2dh"
      },
      "execution_count": 1097,
      "outputs": []
    },
    {
      "cell_type": "code",
      "source": [
        "print(aminoacidos[0:4])"
      ],
      "metadata": {
        "id": "SoL1NkPinJ6f"
      },
      "execution_count": null,
      "outputs": []
    },
    {
      "cell_type": "code",
      "source": [
        "print(aminoacidos[3:5])"
      ],
      "metadata": {
        "id": "s9Id4bFZopDG"
      },
      "execution_count": null,
      "outputs": []
    },
    {
      "cell_type": "markdown",
      "source": [
        "O método `join()` **une todos os itens de uma lista** e os transforma em uma string única."
      ],
      "metadata": {
        "id": "ZXCzMc4zLnu7"
      }
    },
    {
      "cell_type": "code",
      "source": [
        "aminoacidos_concat=\", \".join(aminoacidos)\n",
        "print(\"Aminoácidos: \"+aminoacidos_concat+\".\")\n",
        "\n",
        "## Dentro das aspas adicionamos o separador que queremos que separe os itens da nossa nova string"
      ],
      "metadata": {
        "id": "_vce8-xRLvIE"
      },
      "execution_count": null,
      "outputs": []
    },
    {
      "cell_type": "markdown",
      "source": [
        "A função `range()` retorna uma série numérica de acordo com os argumentos declarados na função.\n",
        "\n",
        "Os argumentos seguem a estrutura `start,stop,step`.\n",
        "\n",
        "Usamos a função `list()` para criar uma lista a partir do resultado da função `range()`."
      ],
      "metadata": {
        "id": "eNEhXGyzPCGv"
      }
    },
    {
      "cell_type": "code",
      "source": [
        "## ALTERE OS VALORES DOS NÚMEROS DENTRO DOS PARÊNTESES\n",
        "numeros=list(range(0,10,3))\n",
        "print(numeros)"
      ],
      "metadata": {
        "id": "K1IF_e-qO4Pt"
      },
      "execution_count": null,
      "outputs": []
    },
    {
      "cell_type": "markdown",
      "source": [
        "Vamos criar uma lista com as **nucleotídeos** que existem no DNA."
      ],
      "metadata": {
        "id": "MQWinUdBf-3E"
      }
    },
    {
      "cell_type": "code",
      "source": [
        "## ESCREVA AQUI\n",
        "## Chame a lista de `nucleotideos`"
      ],
      "metadata": {
        "id": "Y94SUy0egG5H"
      },
      "execution_count": 1102,
      "outputs": []
    },
    {
      "cell_type": "markdown",
      "source": [
        "[Mais informações sobre listas na documentação oficial do Python.](https://docs.python.org/pt-br/3/tutorial/introduction.html#lists)"
      ],
      "metadata": {
        "id": "nGY1wXFwgcuH"
      }
    },
    {
      "cell_type": "markdown",
      "source": [
        "## **Dicionários**"
      ],
      "metadata": {
        "id": "rUsHBTnmp9KG"
      }
    },
    {
      "cell_type": "markdown",
      "source": [
        "Dicionários são **estruturas de dados** no formato *chave:valor*.\n",
        "\n",
        "Criamos dicionários utilizando `{}` (chaves) como operador de atribuição.\n",
        "\n",
        "Assim como as listas, os dicionários podem armazenar vários tipos de dados."
      ],
      "metadata": {
        "id": "uIipBbAFqKyf"
      }
    },
    {
      "cell_type": "code",
      "source": [
        "sp1={\"nome_cientifico\":\"Bombus terrestris\",\n",
        "    \"filo\":\"Arthropoda\",\n",
        "    \"classe\":\"Insecta\",\n",
        "    \"ordem\":\"Hymenoptera\",\n",
        "    \"familia\":\"Apidae\",\n",
        "    \"genero\":\"Bombus\",\n",
        "    \"nome_popular\":\"Mamangava\"}"
      ],
      "metadata": {
        "id": "paSH_1HAr6DX"
      },
      "execution_count": 1103,
      "outputs": []
    },
    {
      "cell_type": "code",
      "source": [
        "sp2={\"nome_cientifico\":\"Galeocerdo cuvier\",\n",
        "     \"filo\":\"Chordata\",\n",
        "     \"classe\":\"Chondrichthyes\",\n",
        "     \"ordem\":\"Carcharhiniformes\",\n",
        "     \"familia\":\"Carcharhinidae\",\n",
        "     \"genero\":\"Galeocerdo\"}"
      ],
      "metadata": {
        "id": "e2hiLojpvME4"
      },
      "execution_count": 1104,
      "outputs": []
    },
    {
      "cell_type": "markdown",
      "source": [
        "Podemos **obter o valor associado a uma chave** especificando o nome do dicionário e o nome da chave entre `[]` (colchetes)."
      ],
      "metadata": {
        "id": "I8bvuLlAvzFQ"
      }
    },
    {
      "cell_type": "code",
      "source": [
        "print(sp1[\"ordem\"])\n",
        "print(sp2[\"ordem\"])"
      ],
      "metadata": {
        "id": "ERhDg2OHwHMR"
      },
      "execution_count": null,
      "outputs": []
    },
    {
      "cell_type": "markdown",
      "source": [
        "Também podemos **adicionar novas duplas `chave:valor`** a um dicionário existente."
      ],
      "metadata": {
        "id": "FfzlpgJzwxla"
      }
    },
    {
      "cell_type": "code",
      "source": [
        "sp2[\"nome_popular\"]=\"Tubarão-tigre\"\n",
        "print(sp2)"
      ],
      "metadata": {
        "id": "atPTVYGtwmJH"
      },
      "execution_count": null,
      "outputs": []
    },
    {
      "cell_type": "markdown",
      "source": [
        "O valor de uma chave pode ser uma lista."
      ],
      "metadata": {
        "id": "wpnK1zaWxH7b"
      }
    },
    {
      "cell_type": "code",
      "source": [
        "aminoacidos_codons={\n",
        "    \"alanina\":[\"GCU\",\"GCC\",\"GCA\",\"GCG\"],\n",
        "    \"leucina\":[\"UUA\",\"UUG\", \"CUU\",\"CUC\",\"CUA\",\"CUG\"],\n",
        "    \"glicina\":[\"GGU\",\"GGC\",\"GGA\",\"GGG\"],\n",
        "    \"aspartato\":[\"GAU\",\"GAC\"],\n",
        "    \"lisina\":[\"AAA\",\"AAG\"],\n",
        "    \"glutamato\":[\"GAA\",\"GAG\"],\n",
        "    \"fenilalanina\":[\"UUU\",\"UUC\"],\n",
        "    \"histidina\":[\"CAU\",\"CAC\"]\n",
        "}"
      ],
      "metadata": {
        "id": "gkIvu_G6rSnX"
      },
      "execution_count": 1107,
      "outputs": []
    },
    {
      "cell_type": "markdown",
      "source": [
        "Vamos criar um dicionário com as **bases complementares do DNA**."
      ],
      "metadata": {
        "id": "3tpDM-pixUkS"
      }
    },
    {
      "cell_type": "code",
      "source": [
        "## ESCREVA AQUI\n",
        "## Chame o dicionário de `complementares`"
      ],
      "metadata": {
        "id": "QKdwCiCsxUET"
      },
      "execution_count": 1108,
      "outputs": []
    },
    {
      "cell_type": "markdown",
      "source": [
        "[Mais informações sobre dicionários na documentação oficial do Python.](https://docs.python.org/pt-br/3/tutorial/datastructures.html#dictionaries)"
      ],
      "metadata": {
        "id": "ira_-_Nbxm2I"
      }
    },
    {
      "cell_type": "markdown",
      "source": [
        "## **Laços de repetição**"
      ],
      "metadata": {
        "id": "m8cpI8RKxvWl"
      }
    },
    {
      "cell_type": "markdown",
      "source": [
        "Ao escrever programas é comum que precisemos executar o mesmo comando várias vezes.\n",
        "\n",
        "O que fazer? Escrever as mesmas linhas de código *repetidas vezes*?"
      ],
      "metadata": {
        "id": "JFxUrlH0x6s0"
      }
    },
    {
      "cell_type": "code",
      "source": [
        "nucleotideos=[\"A\",\"C\",\"T\",\"G\"]\n",
        "print(nucleotideos[0])\n",
        "print(nucleotideos[1])\n",
        "print(nucleotideos[2])\n",
        "print(nucleotideos[3])"
      ],
      "metadata": {
        "id": "HEU8tZGpyMWV"
      },
      "execution_count": null,
      "outputs": []
    },
    {
      "cell_type": "markdown",
      "source": [
        "Um método mais eficiente de resolver esse problema é utilizando um laço de repetição (*loop*).\n",
        "\n",
        "O loop `for` permite percorrer uma coleção (lista ou dicionário, por exemplo) e **executar os mesmos comandos para cada um dos itens**.\n",
        "\n",
        "A estrutura do `loop` for é a seguinte."
      ],
      "metadata": {
        "id": "-prVzXNbyaPr"
      }
    },
    {
      "cell_type": "code",
      "source": [
        "for n in nucleotideos:\n",
        "  print(n)\n",
        "\n",
        " ## Atente para o uso dos dois pontos e da indentação."
      ],
      "metadata": {
        "id": "1zkOskoHzbIt"
      },
      "execution_count": null,
      "outputs": []
    },
    {
      "cell_type": "code",
      "source": [
        "for n in nucleotideos:\n",
        "  frase=n+\" é um nucleotídeo do DNA.\"\n",
        "  print(frase)\n",
        "\n",
        "  ## Neste exemplo, note que a cada loop a variável frase é salva com um valor diferente (cada valor da lista)"
      ],
      "metadata": {
        "id": "jLqVuDkw0a7m"
      },
      "execution_count": null,
      "outputs": []
    },
    {
      "cell_type": "markdown",
      "source": [
        "Vamos escrever um código que exiba todos os nucleotídeos, um por um, da nossa sequência de DNA."
      ],
      "metadata": {
        "id": "YgwyHCej1H3j"
      }
    },
    {
      "cell_type": "code",
      "source": [
        "print(dna_seq)"
      ],
      "metadata": {
        "id": "XEQMI3ro1Hn0"
      },
      "execution_count": null,
      "outputs": []
    },
    {
      "cell_type": "code",
      "source": [
        "## ESCREVA AQUI"
      ],
      "metadata": {
        "id": "hp2x6VBM1oKg"
      },
      "execution_count": 1113,
      "outputs": []
    },
    {
      "cell_type": "markdown",
      "source": [
        "## **Estruturas condicionais**"
      ],
      "metadata": {
        "id": "EmoaIb9412xv"
      }
    },
    {
      "cell_type": "markdown",
      "source": [
        "Programas precisam tomar decisões...\n",
        "\n",
        "Utilizamos as estruturas condicionais para **analisar se determinadas condições são respeitadas** e, a partir dessa análise, **decidir que ações executar**.\n",
        "\n"
      ],
      "metadata": {
        "id": "bcgIrKD53VWd"
      }
    },
    {
      "cell_type": "markdown",
      "source": [
        "### Comparações numéricas"
      ],
      "metadata": {
        "id": "bX5m5Vdq9zlD"
      }
    },
    {
      "cell_type": "markdown",
      "source": [
        "Fazemos comparações numéricas usando os operadores `==`, `<=`, `>=`, `<`, `>`, `!=`."
      ],
      "metadata": {
        "id": "fdT9H_G49FkA"
      }
    },
    {
      "cell_type": "code",
      "source": [
        "3==3"
      ],
      "metadata": {
        "id": "OOzUJ2Ml8vSR"
      },
      "execution_count": null,
      "outputs": []
    },
    {
      "cell_type": "code",
      "source": [
        "3==4"
      ],
      "metadata": {
        "id": "SDV3B6d68xl1"
      },
      "execution_count": null,
      "outputs": []
    },
    {
      "cell_type": "code",
      "source": [
        "3<4"
      ],
      "metadata": {
        "id": "3Px20osQ81Fr"
      },
      "execution_count": null,
      "outputs": []
    },
    {
      "cell_type": "code",
      "source": [
        "5!=10"
      ],
      "metadata": {
        "id": "ZWsPTaLd9rwV"
      },
      "execution_count": null,
      "outputs": []
    },
    {
      "cell_type": "markdown",
      "source": [
        "### Testes condicionais"
      ],
      "metadata": {
        "id": "H3cGMQ0e4_nn"
      }
    },
    {
      "cell_type": "markdown",
      "source": [
        "A instrução `if` avalia uma condição em verdadeira (True) ou falsa (False).\n",
        "\n",
        "Se a condição for **verdadeira**, o código após a instrução `if` será ***executado***.\n",
        "\n",
        "Se a condição for **falsa**, o código será ***ignorado*** pelo interpretador."
      ],
      "metadata": {
        "id": "I91d1fTo9AlJ"
      }
    },
    {
      "cell_type": "code",
      "source": [
        "print(sp1[\"filo\"])\n",
        "print(sp2[\"filo\"])"
      ],
      "metadata": {
        "id": "lBwaGotr5jmX"
      },
      "execution_count": null,
      "outputs": []
    },
    {
      "cell_type": "code",
      "source": [
        "if sp1[\"filo\"]==\"Chordata\":\n",
        "  print(\"Esta espécie é cordada.\")"
      ],
      "metadata": {
        "id": "HmHpZtcK5wDP"
      },
      "execution_count": 1119,
      "outputs": []
    },
    {
      "cell_type": "code",
      "source": [
        "if sp2[\"filo\"]==\"Chordata\":\n",
        "  print(\"Esta espécie é cordada.\")"
      ],
      "metadata": {
        "id": "wM9is69g7jic"
      },
      "execution_count": null,
      "outputs": []
    },
    {
      "cell_type": "markdown",
      "source": [
        "Podemos utilizar a estrutura `else` junto com a estrutura `if`."
      ],
      "metadata": {
        "id": "3SpFm5Fu71bA"
      }
    },
    {
      "cell_type": "code",
      "source": [
        "if sp1[\"filo\"]==\"Chordata\":\n",
        "  print(\"Esta espécie é cordada.\")\n",
        "else:\n",
        "  print(\"Esta espécie NÃO é cordada.\")\n",
        "\n",
        "## Atente para o uso dos dois pontos e da indentação"
      ],
      "metadata": {
        "id": "dHkT2z_B76t6"
      },
      "execution_count": null,
      "outputs": []
    },
    {
      "cell_type": "markdown",
      "source": [
        "Utilizamos estruturas condicionais para **testar se determinados valores existem** em uma lista, por exemplo."
      ],
      "metadata": {
        "id": "fkAId6M98Q7U"
      }
    },
    {
      "cell_type": "code",
      "source": [
        "print(nucleotideos)"
      ],
      "metadata": {
        "id": "igCndYT88TEX"
      },
      "execution_count": null,
      "outputs": []
    },
    {
      "cell_type": "code",
      "source": [
        "if \"T\" in nucleotideos:\n",
        "  print(\"Esses são os nucleotídeos do DNA.\")\n",
        "if \"U\" in nucleotideos:\n",
        "  print(\"Essas são os nucleotídeos do RNA.\")"
      ],
      "metadata": {
        "id": "-LsesKUn8V20"
      },
      "execution_count": null,
      "outputs": []
    },
    {
      "cell_type": "markdown",
      "source": [
        "Vamos testar se a nossa sequência **termina com determinado códon**."
      ],
      "metadata": {
        "id": "hz05pTIb_qfu"
      }
    },
    {
      "cell_type": "code",
      "source": [
        "print(dna_seq)"
      ],
      "metadata": {
        "id": "qDiIHkzB41qV"
      },
      "execution_count": null,
      "outputs": []
    },
    {
      "cell_type": "code",
      "source": [
        "codon_teste=\"TAC\"\n",
        "if dna_seq.endswith(codon_teste):\n",
        "  print(\"Sim! A sequência termina com o códon \"+codon_teste+\".\")\n",
        "else:\n",
        "  print(\"Não! A sequência não termina com o códon \"+codon_teste+\".\")"
      ],
      "metadata": {
        "id": "Hw-iFfw7_pP_"
      },
      "execution_count": null,
      "outputs": []
    },
    {
      "cell_type": "markdown",
      "source": [
        "Testando mais **condições numéricas**..."
      ],
      "metadata": {
        "id": "yaqCd_kiAmS_"
      }
    },
    {
      "cell_type": "code",
      "source": [
        "if len(dna_seq)>10:\n",
        "  print(\"A sequência tem mais de 10 nucleotídeos.\")\n",
        "else:\n",
        "  print(\"A sequência tem menos de 10 nucleotídeos.\")"
      ],
      "metadata": {
        "id": "imWAE0W_A7Is"
      },
      "execution_count": null,
      "outputs": []
    },
    {
      "cell_type": "markdown",
      "source": [
        "## **Funções**"
      ],
      "metadata": {
        "id": "VgBXq287SRc9"
      }
    },
    {
      "cell_type": "markdown",
      "source": [
        "Funções são sequências de instruções ou comandos **reutilizáveis**.\n",
        "\n",
        "Elas podem ser **chamadas a qualquer momento** durante a execução do programa de maneira independente.\n",
        "\n"
      ],
      "metadata": {
        "id": "ozLGol-nSXJU"
      }
    },
    {
      "cell_type": "markdown",
      "source": [
        "O Python tem funções nativas, como print() e type(), que já aprendemos aqui. Mas nós também podemos **criar nossas próprias funções**.\n",
        "\n",
        "A **estrutura** básica da função é a seguinte:\n",
        "\n",
        "```\n",
        "def nome(argumentos):\n",
        "  comandos\n",
        "  return\n",
        "```"
      ],
      "metadata": {
        "id": "BXaBz9TmeRGm"
      }
    },
    {
      "cell_type": "code",
      "source": [
        "# Exemplo de função\n",
        "def soma_um(x):\n",
        "  x+=1\n",
        "  return x"
      ],
      "metadata": {
        "id": "4rirW51pSQqH"
      },
      "execution_count": 1127,
      "outputs": []
    },
    {
      "cell_type": "code",
      "source": [
        "## ALTERE O VALOR DENTRO DOS PARÊNTESES\n",
        "soma_um(19)"
      ],
      "metadata": {
        "id": "3SsMdoQRSuy8"
      },
      "execution_count": null,
      "outputs": []
    },
    {
      "cell_type": "markdown",
      "source": [
        "## **Projeto: Kit de ferramentas para manipular sequências de DNA**"
      ],
      "metadata": {
        "id": "JSZxizIvECPN"
      }
    },
    {
      "cell_type": "markdown",
      "source": [
        "Vamos montar um conjunto de ferramentas (funções) para realizar **operações básicas com sequências de DNA**.\n",
        "\n",
        "O objetivo deste projeto é montar um **aparato básico de ferramentas** que possam ser a base para desenvolver algoritmos mais complexos posteriormente."
      ],
      "metadata": {
        "id": "bP4w5jerETS-"
      }
    },
    {
      "cell_type": "markdown",
      "source": [
        "Perguntas...\n",
        "\n",
        "***Quais processos que ocorrem nos organismos são relevantes no estudo da Genética Molecular?***\n",
        "\n",
        "***Como podemos representar o DNA dentro do programa para estudar esses processos?***\n",
        "\n",
        "***Que características são relevantes para o nosso propósito?***"
      ],
      "metadata": {
        "id": "1KSW9MYuIMS3"
      }
    },
    {
      "cell_type": "markdown",
      "source": [
        "### **A estrutura do DNA**"
      ],
      "metadata": {
        "id": "6aHKd-jbF8Jf"
      }
    },
    {
      "cell_type": "markdown",
      "source": [
        "![Estrutura do DNA](https://s3-us-west-2.amazonaws.com/courses-images/wp-content/uploads/sites/1094/2016/11/03164502/OSC_Microbio_10_02_DoubHelix.jpg)"
      ],
      "metadata": {
        "id": "yvoEtMelFI1J"
      }
    },
    {
      "cell_type": "markdown",
      "source": [
        "### **Etapas do projeto**"
      ],
      "metadata": {
        "id": "-QDt3_RgJJji"
      }
    },
    {
      "cell_type": "markdown",
      "source": [
        "1. Definir uma estrutura básica\n",
        "2. Gerar uma sequência\n",
        "3. Validar a sequência\n",
        "4. Contar os nucleotídeos\n",
        "5. Calcular o conteúdo CG\n",
        "6. Transcrever a sequência\n",
        "7. Encontrar o reverso complementar\n",
        "8. Traduzir a sequência"
      ],
      "metadata": {
        "id": "VhCaI588JO4I"
      }
    },
    {
      "cell_type": "markdown",
      "source": [
        "### **1. Definir a estrutura**"
      ],
      "metadata": {
        "id": "gICv_RiuKnIX"
      }
    },
    {
      "cell_type": "code",
      "source": [
        "nucleotideos = [\"A\",\"T\",\"C\",\"G\"]\n",
        "\n",
        "complementares = {\"A\":\"T\",\n",
        "                  \"T\":\"A\",\n",
        "                  \"C\":\"G\",\n",
        "                  \"G\":\"C\"}\n",
        "\n",
        "# Dicionário de códons e símbolos de três letras dos aminoácidos (código genético padrão)\n",
        "codigo_genetico = {\n",
        "    \"GCU\": \"Ala\", \"GCC\": \"Ala\", \"GCA\": \"Ala\", \"GCG\": \"Ala\",\n",
        "    \"UGU\": \"Cys\", \"UGC\": \"Cys\",\n",
        "    \"GAU\": \"Asp\", \"GAC\": \"Asp\",\n",
        "    \"GAA\": \"Glu\", \"GAG\": \"Glu\",\n",
        "    \"UUU\": \"Phe\", \"UUC\": \"Phe\",\n",
        "    \"GGU\": \"Gly\", \"GGC\": \"Gly\", \"GGA\": \"Gly\", \"GGG\": \"Gly\",\n",
        "    \"CAU\": \"His\", \"CAC\": \"His\",\n",
        "    \"AUA\": \"Ile\", \"AUU\": \"Ile\", \"AUC\": \"Ile\",\n",
        "    \"AAA\": \"Lys\", \"AAG\": \"Lys\",\n",
        "    \"UUA\": \"Leu\", \"UUG\": \"Leu\", \"CUU\": \"Leu\", \"CUC\": \"Leu\", \"CUA\": \"Leu\", \"CUG\": \"Leu\",\n",
        "    \"AUG\": \"Met\",\n",
        "    \"AAU\": \"Asn\", \"AAC\": \"Asn\",\n",
        "    \"CCU\": \"Pro\", \"CCC\": \"Pro\", \"CCA\": \"Pro\", \"CCG\": \"Pro\",\n",
        "    \"CAA\": \"Gln\", \"CAG\": \"Gln\",\n",
        "    \"CGU\": \"Arg\", \"CGC\": \"Arg\", \"CGA\": \"Arg\", \"CGG\": \"Arg\", \"AGA\": \"Arg\", \"AGG\": \"Arg\",\n",
        "    \"UCU\": \"Ser\", \"UCC\": \"Ser\", \"UCA\": \"Ser\", \"UCG\": \"Ser\", \"AGU\": \"Ser\", \"AGC\": \"Ser\",\n",
        "    \"ACU\": \"Thr\", \"ACC\": \"Thr\", \"ACA\": \"Thr\", \"ACG\": \"Thr\",\n",
        "    \"GUU\": \"Val\", \"GUC\": \"Val\", \"GUA\": \"Val\", \"GUG\": \"Val\",\n",
        "    \"UGG\": \"Trp\",\n",
        "    \"UAU\": \"Tyr\", \"UAC\": \"Tyr\",\n",
        "    \"UAA\": \"_\", \"UAG\": \"_\", \"UGA\": \"_\"}\n",
        "# Stop codons são representados pelo símbolo `_`"
      ],
      "metadata": {
        "id": "EX-JbqVlKwlm"
      },
      "execution_count": 1129,
      "outputs": []
    },
    {
      "cell_type": "markdown",
      "source": [
        "### **2. Gerar sequência**"
      ],
      "metadata": {
        "id": "_-Q4YEC2K3l8"
      }
    },
    {
      "cell_type": "markdown",
      "source": [
        "Vamos escrever um código que gere uma sequência de DNA aleatória a cada vez que for executado.\n",
        "\n"
      ],
      "metadata": {
        "id": "YiD9giMTLB_A"
      }
    },
    {
      "cell_type": "code",
      "source": [
        "# Criando uma sequência de DNA aleatoriamente\n",
        "\n",
        "from random import choice                           # Importa a biblioteca random\n",
        "\n",
        "dna_seq_aleatoria=[]                                # Cria uma lista vazia chamada dna_seq_aleatoria\n",
        "\n",
        "for i in range(0,30):                               # Cria um loop que será executado 30x\n",
        "    nuc_aleatorio=choice(nucleotideos)              # Escolhe um nucleotídeo aleatoriamente na nossa lista de nucleotídeos\n",
        "    dna_seq_aleatoria.append(nuc_aleatorio)         # Adiciona esse nucleotídeo à lista dna_seq_aleatoria\n",
        "\n",
        "dna_seq_aleatoria=\"\".join(dna_seq_aleatoria)        # Une todos os itens da lista transformando-os em uma string\n",
        "\n",
        "print(dna_seq_aleatoria)                            # Exibe essa string na tela"
      ],
      "metadata": {
        "id": "efTjEKFHLBSh"
      },
      "execution_count": null,
      "outputs": []
    },
    {
      "cell_type": "markdown",
      "source": [
        "### **3. Validar sequência**"
      ],
      "metadata": {
        "id": "RpIMtFe4SD2S"
      }
    },
    {
      "cell_type": "code",
      "source": [
        "def validar_seq(sequencia):\n",
        "\n",
        "  sequencia=sequencia.upper()                  # Converte todas as letras da sequência para maiúsculo\n",
        "  for n in sequencia:                          # Repete o código abaixo para cada um dos itens da sequência\n",
        "    if n not in nucleotideos:                  # Se a letra (nucleotídeo) não estiver na lista nucleotideos (definida anteriormente)\n",
        "      return False                             # Retorna \"falso\"\n",
        "\n",
        "  return sequencia                             # Se o programa não encontrar nenhum \"falso\", retorna a sequência\n",
        ""
      ],
      "metadata": {
        "id": "LjCfCTlLTmB4"
      },
      "execution_count": 1131,
      "outputs": []
    },
    {
      "cell_type": "code",
      "source": [
        "## CORRIJA A SEQUÊNCIA PARA A FUNÇÃO RETORNAR VERDADEIRO\n",
        "seq_teste=\"GTCtCjCcgacTC\"\n",
        "validar_seq(seq_teste)"
      ],
      "metadata": {
        "id": "fvYlR3GnT2fa"
      },
      "execution_count": null,
      "outputs": []
    },
    {
      "cell_type": "markdown",
      "source": [
        "Agora vamos aplicar a função `validar_seq()` na nossa sequência aleatória."
      ],
      "metadata": {
        "id": "CrtATPazU9LP"
      }
    },
    {
      "cell_type": "code",
      "source": [
        "validar_seq(dna_seq_aleatoria)"
      ],
      "metadata": {
        "id": "eOGn-0gvU7iN"
      },
      "execution_count": null,
      "outputs": []
    },
    {
      "cell_type": "markdown",
      "source": [
        "### **4. Contar nucleotídeos**"
      ],
      "metadata": {
        "id": "oexj8SxLVO33"
      }
    },
    {
      "cell_type": "markdown",
      "source": [
        "Vamos criar uma função que conte **quantas vezes cada nucleotídeo aparece** na nossa sequência de DNA."
      ],
      "metadata": {
        "id": "imdzwRDaVTPE"
      }
    },
    {
      "cell_type": "code",
      "source": [
        "def contar_nuc(sequencia):\n",
        "\n",
        "    nuc_freq={\"A\":0,                  # Cria um dicionário \"contador\" que inicia com o valor zero para todos os nucleotídeos\n",
        "             \"C\":0,\n",
        "             \"T\":0,\n",
        "             \"G\":0}\n",
        "\n",
        "    for n in sequencia:               # Repete o código abaixo para cada um dos itens da sequência\n",
        "        nuc_freq[n] += 1              # Procura o nucleotídeo no dicionário `nuc_freq` e soma um ao seu valor\n",
        "\n",
        "    return nuc_freq                   # Retorna o dicionário \"contador\""
      ],
      "metadata": {
        "id": "bJBycXH9VXJQ"
      },
      "execution_count": 1134,
      "outputs": []
    },
    {
      "cell_type": "markdown",
      "source": [
        "**Aplicando na nossa sequência aleatória.**"
      ],
      "metadata": {
        "id": "Lahi80m8WvwR"
      }
    },
    {
      "cell_type": "code",
      "source": [
        "dna_seq=validar_seq(dna_seq_aleatoria)      # 1º passo: validar a sequêcia\n",
        "contar_nuc(dna_seq)"
      ],
      "metadata": {
        "id": "Uu3W0tKfWpyO"
      },
      "execution_count": null,
      "outputs": []
    },
    {
      "cell_type": "markdown",
      "source": [
        "### **5. Cálculo do conteúdo CG**"
      ],
      "metadata": {
        "id": "2Io-fhY2XD1l"
      }
    },
    {
      "cell_type": "code",
      "source": [
        "def conteudo_cg(sequencia):\n",
        "\n",
        "    num_c = round(sequencia.count(\"C\"))                   # Utiliza o método `count()` para contar quantas vezes a letra \"C\" aparece\n",
        "    num_g = round(sequencia.count(\"G\"))                   # Faz o mesmo para a letra \"G\"\n",
        "    tamanho_seq = len(sequencia)                          # Calcula o tamanho da sequência\n",
        "    freq_cg= round((num_c + num_g) / tamanho_seq * 100)   # Calcula a porcentagem de \"C\" e \"G\"\n",
        "\n",
        "    return freq_cg"
      ],
      "metadata": {
        "id": "aLLYD0_aXRmR"
      },
      "execution_count": 1136,
      "outputs": []
    },
    {
      "cell_type": "code",
      "source": [
        "# Testando se funciona\n",
        "conteudo_cg(\"ATCG\")"
      ],
      "metadata": {
        "id": "Lt_jW8tyX90Y"
      },
      "execution_count": null,
      "outputs": []
    },
    {
      "cell_type": "markdown",
      "source": [
        "**Aplicando na nossa sequência aleatória.**"
      ],
      "metadata": {
        "id": "HMAPRvdyX1G6"
      }
    },
    {
      "cell_type": "code",
      "source": [
        "conteudo_cg(dna_seq)"
      ],
      "metadata": {
        "id": "yIsiij_EXboU"
      },
      "execution_count": null,
      "outputs": []
    },
    {
      "cell_type": "code",
      "source": [
        "print(f\"A nossa sequência tem {conteudo_cg(dna_seq)}% de CG.\")"
      ],
      "metadata": {
        "id": "-UtP54_SYJvf"
      },
      "execution_count": null,
      "outputs": []
    },
    {
      "cell_type": "markdown",
      "source": [
        "### **6. Transcrição**"
      ],
      "metadata": {
        "id": "fXvqvJhWe2JW"
      }
    },
    {
      "cell_type": "markdown",
      "source": [
        "![Transcrição](https://cdn.lecturio.com/assets/Transcription-process-and-synthesis-of-mRNA-1.png)"
      ],
      "metadata": {
        "id": "qxSshalwfDGF"
      }
    },
    {
      "cell_type": "code",
      "source": [
        "def transcricao(sequencia):\n",
        "\n",
        "  rna_seq = sequencia.replace(\"T\",\"U\")   # Substitui todos os \"T\" por \"U\" e gera uma nova variável chamada `rna_seq`\n",
        "\n",
        "  return rna_seq\n",
        ""
      ],
      "metadata": {
        "id": "gYvI-p5zgQz1"
      },
      "execution_count": 1140,
      "outputs": []
    },
    {
      "cell_type": "markdown",
      "source": [
        "**Atenção!**"
      ],
      "metadata": {
        "id": "ARIhZ6xviiIZ"
      }
    },
    {
      "cell_type": "markdown",
      "source": [
        "\n",
        "O resultado final dessa função é o RNAm *produto da transcrição*.\n",
        "\n",
        "Mas, no nosso código, usamos a **fica codificadora** como referência, enquanto que na realidade o processo de *transcrição biológica* utiliza a **fita molde**.\n",
        "\n",
        "Apesar de o passo a passo não corresponder ao que ocorre na transcrição biológica, o resultado final é o mesmo e nosso código é ***eficiente***.\n",
        "\n",
        "Se o código fosse utilizado em contextos mais complexos e específicos de biologia molecular, poderia ser importante adotar a terminologia e a lógica biológica corretas para ***garantir a precisão das informações.***"
      ],
      "metadata": {
        "id": "P_mveZ1phLV7"
      }
    },
    {
      "cell_type": "code",
      "source": [
        "# Testando a sequência da imagem\n",
        "seq_img=\"AGCATCGTAT\"\n",
        "print(transcricao(seq_img))"
      ],
      "metadata": {
        "id": "QQ29AZvyjQVm"
      },
      "execution_count": null,
      "outputs": []
    },
    {
      "cell_type": "markdown",
      "source": [
        "**Aplicando na nossa sequência aleatória.**"
      ],
      "metadata": {
        "id": "1yUOzQj4ja3t"
      }
    },
    {
      "cell_type": "code",
      "source": [
        "print(dna_seq)\n",
        "print(transcricao(dna_seq))"
      ],
      "metadata": {
        "id": "SVYrF9GGi2Vw"
      },
      "execution_count": null,
      "outputs": []
    },
    {
      "cell_type": "markdown",
      "source": [
        "### **7. Reverso complementar**"
      ],
      "metadata": {
        "id": "iQNj0WE-jtb4"
      }
    },
    {
      "cell_type": "code",
      "source": [
        "print(complementares)"
      ],
      "metadata": {
        "id": "88TxYrSYmoXY"
      },
      "execution_count": null,
      "outputs": []
    },
    {
      "cell_type": "code",
      "source": [
        "## ALTERE O VALOR DENTRO DOS PARÊNTESES\n",
        "print(complementares[\"A\"])"
      ],
      "metadata": {
        "id": "YTYhV31SnHbF"
      },
      "execution_count": null,
      "outputs": []
    },
    {
      "cell_type": "code",
      "source": [
        "def reverso_complementar(sequencia):\n",
        "\n",
        "    dna_seq_complementar = \"\"                              # Cria uma string vazia que representa a sequência complementar\n",
        "\n",
        "    for n in sequencia:                                    # Repete o código abaixo para cada nucleotídeo da sequência\n",
        "        dna_seq_complementar += complementares[n]          # Busca o nucleotídeo nas chaves do dicionário `complementares`\n",
        "                                                           # E adiciona o seu valor à sequência complementar (string)]\n",
        "\n",
        "    dna_seq_complementar_rev = dna_seq_complementar[::-1]  # Reescreve a string de trás pra frente\n",
        "\n",
        "    return dna_seq_complementar_rev                        # Retorna o reverso complementar da sequência"
      ],
      "metadata": {
        "id": "AaWGYkoxl4kV"
      },
      "execution_count": 1145,
      "outputs": []
    },
    {
      "cell_type": "code",
      "source": [
        "# Testando se funciona\n",
        "print(reverso_complementar(\"CGAT\"))"
      ],
      "metadata": {
        "id": "nkYU8DonnuDJ"
      },
      "execution_count": null,
      "outputs": []
    },
    {
      "cell_type": "markdown",
      "source": [
        "**Aplicando na nossa sequência aleatória.**"
      ],
      "metadata": {
        "id": "AuO542aUn2ng"
      }
    },
    {
      "cell_type": "code",
      "source": [
        "print(reverso_complementar(dna_seq))"
      ],
      "metadata": {
        "id": "EcwDK-tpnyxk"
      },
      "execution_count": null,
      "outputs": []
    },
    {
      "cell_type": "code",
      "source": [
        "print(f\"5' {dna_seq} 3'[Sequência]\")\n",
        "print(\" \"*3+\"|\"*len(dna_seq))\n",
        "print(f\"3' {reverso_complementar(dna_seq)[::-1]} 5'[Complemento]\\n\")\n",
        "\n",
        "print(f\"5' {reverso_complementar(dna_seq)} 3'[Reverso complementar]\")"
      ],
      "metadata": {
        "id": "Z9182769oE47"
      },
      "execution_count": null,
      "outputs": []
    },
    {
      "cell_type": "markdown",
      "source": [
        "### **8. Tradução**"
      ],
      "metadata": {
        "id": "lx0cQOy3ju9f"
      }
    },
    {
      "cell_type": "code",
      "source": [
        "print(codigo_genetico)"
      ],
      "metadata": {
        "id": "GIcVT3kIoqri"
      },
      "execution_count": null,
      "outputs": []
    },
    {
      "cell_type": "code",
      "source": [
        "def traducao(sequencia):\n",
        "\n",
        "  rna_seq = sequencia.replace(\"T\",\"U\")               # Transcrição\n",
        "\n",
        "  ptn_seq = \"\"                                       # Cria uma string vazia que será a sequência proteica\n",
        "\n",
        "  for i in range(0, len(rna_seq)-2, 3):              # Loop para percorrer a sequência de RNA de três em três nucleotídeos\n",
        "        codon = rna_seq[i:i+3]                       # O códon é composto por três nucleotídeos em sequência\n",
        "        aminoacido = codigo_genetico.get(codon,\"~\")  # Busca o códon no `dicionário codigo_genetico` e guarda seu valor (aminoacido)\n",
        "        ptn_seq += aminoacido                        # Adiciona o aminoácido na sequência proteica\n",
        "\n",
        "  return ptn_seq                                     # Retorna a sequência proteica ao fim do loop"
      ],
      "metadata": {
        "id": "uWwBtcnNqOmV"
      },
      "execution_count": 1150,
      "outputs": []
    },
    {
      "cell_type": "markdown",
      "source": [
        "**Explicando melhor...**"
      ],
      "metadata": {
        "id": "Nz18jW7as05t"
      }
    },
    {
      "cell_type": "code",
      "source": [
        "letras=[\"A\",\"B\",\"C\",\"D\",\"E\",\"F\",\"G\"]\n",
        "tamanho_letras=len(letras)\n",
        "print(tamanho_letras)"
      ],
      "metadata": {
        "id": "JN1ZTpx7sOo4"
      },
      "execution_count": null,
      "outputs": []
    },
    {
      "cell_type": "code",
      "source": [
        "for i in range(0,tamanho_letras):\n",
        "  trio=letras[i:i+3]\n",
        "  print(trio)"
      ],
      "metadata": {
        "id": "T4if2zJDsbBi"
      },
      "execution_count": null,
      "outputs": []
    },
    {
      "cell_type": "markdown",
      "source": [
        "**Atenção**: o código genético *não* funciona dessa maneira."
      ],
      "metadata": {
        "id": "fmCaphnhttzp"
      }
    },
    {
      "cell_type": "markdown",
      "source": [
        "A sequência é lida de três em três, mas sempre *pulando* três. É como funciona o código genético.\n",
        "\n",
        "Então adicionamos um terceiro argumento na função, o `step`=3."
      ],
      "metadata": {
        "id": "fty2vIZYvmgV"
      }
    },
    {
      "cell_type": "code",
      "source": [
        "for i in range(0,tamanho_letras,3):\n",
        "  trio=letras[i:i+3]\n",
        "  print(trio)"
      ],
      "metadata": {
        "id": "HGx0vkAyu1vW"
      },
      "execution_count": null,
      "outputs": []
    },
    {
      "cell_type": "markdown",
      "source": [
        "O `range` começa em 0 e vai até o valor de `tamanho_letras` (7 elementos na lista letras) com um passo de 3 .\n",
        "\n",
        "Isso significa que `i` assume os valores 0, 3 e 6 (7 não incluso).\n",
        "\n",
        "Mas ainda não está completamente correto pois ***apenas trios (códons) completos devem ser lidos***."
      ],
      "metadata": {
        "id": "F2u-cUXUwyju"
      }
    },
    {
      "cell_type": "code",
      "source": [
        "for i in range(0,tamanho_letras-2,3):\n",
        "  trio=letras[i:i+3]\n",
        "  print(trio)"
      ],
      "metadata": {
        "id": "X85oEJDAttV6"
      },
      "execution_count": null,
      "outputs": []
    },
    {
      "cell_type": "markdown",
      "source": [
        "\n",
        "Por isso, adicionamos um `-2` no segundo argumento da função.\n",
        "\n",
        "Assim, o último item é ignorado pois está *sozinho*, não compõe um códon."
      ],
      "metadata": {
        "id": "zNXMJKkEwDti"
      }
    },
    {
      "cell_type": "markdown",
      "source": [
        "**Aplicando na nossa sequência aleatória.**"
      ],
      "metadata": {
        "id": "dESQstmyqqx7"
      }
    },
    {
      "cell_type": "code",
      "source": [
        "print(traducao(dna_seq))"
      ],
      "metadata": {
        "id": "VmmuHnIXqh6x"
      },
      "execution_count": null,
      "outputs": []
    },
    {
      "cell_type": "markdown",
      "source": [
        "### <font color = \"red\">**TESTE FINAL!!!**</font>\n",
        "### **Kit de ferramentas para manipular sequências de DNA**"
      ],
      "metadata": {
        "id": "VO-iaD2kyl7g"
      }
    },
    {
      "cell_type": "code",
      "source": [
        "print(f\"[Sequência aleatória]: {dna_seq}\\n\")\n",
        "print(f\"[Frequência dos nucleotídeos]: {contar_nuc(dna_seq)}\\n\")\n",
        "print(f\"[Transcrição DNA->RNA]: {transcricao(dna_seq)}\\n\")\n",
        "print(f\"[Reverso complementar]: {reverso_complementar(dna_seq)}\\n\")\n",
        "print(f\"[Conteúdo CG]: {conteudo_cg(dna_seq)}%\\n\")\n",
        "print(f\"[Sequência proteica]: {traducao(dna_seq)} \")"
      ],
      "metadata": {
        "id": "hbjJY_T3y-8p"
      },
      "execution_count": null,
      "outputs": []
    },
    {
      "cell_type": "markdown",
      "source": [
        "## **Links úteis**"
      ],
      "metadata": {
        "id": "br4m7njw1HPY"
      }
    },
    {
      "cell_type": "markdown",
      "source": [
        "[Biopython](https://biopython.org/)\n",
        "\n",
        "[Rosalind](https://rosalind.info/problems/locations/)"
      ],
      "metadata": {
        "id": "I-vLAXog2Nrh"
      }
    },
    {
      "cell_type": "markdown",
      "source": [
        "## **Referências**"
      ],
      "metadata": {
        "id": "7t43Llth1gwz"
      }
    },
    {
      "cell_type": "markdown",
      "source": [
        "Downey, Allen B. **Think Python**. 2ed. O'Reilly Media, 2015.\n",
        "\n",
        "Jones, Martin. **Python for Biologists**. 1ed. CreateSpace Independent Publishing Platform, 2013.\n",
        "\n",
        "rebelScience. **Bioinformatics in Python**. Disponível em: www.youtube.com/playlist?list=PLpSOMAcxEB_jUKMvdl8rHqNiZXFIrtd5G."
      ],
      "metadata": {
        "id": "3D87t5e92OcV"
      }
    }
  ]
}